{
  "nbformat": 4,
  "nbformat_minor": 0,
  "metadata": {
    "colab": {
      "name": "Ensemble Model using MLP.ipynb",
      "provenance": [],
      "authorship_tag": "ABX9TyPLwYZVfIR5lhfgzmQpvww0",
      "include_colab_link": true
    },
    "kernelspec": {
      "name": "python3",
      "display_name": "Python 3"
    },
    "language_info": {
      "name": "python"
    }
  },
  "cells": [
    {
      "cell_type": "markdown",
      "metadata": {
        "id": "view-in-github",
        "colab_type": "text"
      },
      "source": [
        "<a href=\"https://colab.research.google.com/github/priyankaborwanker/Flood-Detection-Using-CNNs/blob/main/Ensemble_Model_using_MLP.ipynb\" target=\"_parent\"><img src=\"https://colab.research.google.com/assets/colab-badge.svg\" alt=\"Open In Colab\"/></a>"
      ]
    },
    {
      "cell_type": "code",
      "metadata": {
        "id": "gVxLGqyjWNah"
      },
      "source": [
        "import torch\n",
        "import torchvision\n",
        "import numpy as np\n",
        "import torchvision.transforms as transforms\n",
        "import matplotlib.pyplot as plt\n",
        "from torchvision.utils import make_grid\n",
        "import cv2\n",
        "import os\n",
        "import math\n",
        "import random\n",
        "import torch.nn as nn\n",
        "import torch.nn.functional as F\n",
        "from torchvision import datasets\n",
        "from torch.utils.data.sampler import SubsetRandomSampler\n",
        "from torchvision.datasets import ImageFolder\n",
        "from torch.utils.data.dataloader import DataLoader\n",
        "from torch.utils.data import random_split\n",
        "from torchvision import models\n",
        "from torchvision import transforms\n",
        "import torch.optim as optim\n",
        "import time\n",
        "from PIL import Image\n",
        "import pandas as pd\n",
        "import seaborn as sns"
      ],
      "execution_count": null,
      "outputs": []
    },
    {
      "cell_type": "code",
      "metadata": {
        "colab": {
          "base_uri": "https://localhost:8080/"
        },
        "id": "CH63nkemVdPL",
        "outputId": "dd1a43ab-096d-4e30-96fd-2619aab127bb"
      },
      "source": [
        "from google.colab import drive\n",
        "drive.mount('/content/drive')"
      ],
      "execution_count": null,
      "outputs": [
        {
          "output_type": "stream",
          "name": "stdout",
          "text": [
            "Drive already mounted at /content/drive; to attempt to forcibly remount, call drive.mount(\"/content/drive\", force_remount=True).\n"
          ]
        }
      ]
    },
    {
      "cell_type": "code",
      "metadata": {
        "colab": {
          "base_uri": "https://localhost:8080/"
        },
        "id": "6uy4aaZ7VfMJ",
        "outputId": "6022f39b-700d-4f31-c822-29dde43fca9d"
      },
      "source": [
        "#Images are stored in dataset folder\n",
        "data_dir =  \"/content/drive/MyDrive/NFT DATASET/Train\"\n",
        "dataset = ImageFolder(data_dir,transform = transforms.Compose([transforms.ToTensor(),transforms.Resize((225)),transforms.RandomResizedCrop(224),transforms.Normalize((0.485, 0.456, 0.406),(0.229, 0.224, 0.225))]))\n",
        "print(len(dataset))"
      ],
      "execution_count": null,
      "outputs": [
        {
          "output_type": "stream",
          "name": "stdout",
          "text": [
            "611\n"
          ]
        }
      ]
    },
    {
      "cell_type": "code",
      "metadata": {
        "id": "KICOLWrsVg8B"
      },
      "source": [
        "# Sizes of all the sets\n",
        "train_size = 487\n",
        "val_size = 62\n",
        "test_size= 62\n",
        "batch_size = 50"
      ],
      "execution_count": null,
      "outputs": []
    },
    {
      "cell_type": "code",
      "metadata": {
        "id": "jG8RhakKVioj"
      },
      "source": [
        "#Splitting and Loading the sets\n",
        "train_data,val_data,test_data = random_split(dataset,[train_size,val_size,test_size])\n",
        "train_dl = DataLoader(train_data, batch_size, shuffle = True, num_workers = 2, pin_memory = True)\n",
        "val_dl = DataLoader(val_data, batch_size=16, num_workers = 2, pin_memory = True)\n",
        "test_dl = DataLoader(test_data, batch_size=16, num_workers = 2, pin_memory = True)"
      ],
      "execution_count": null,
      "outputs": []
    },
    {
      "cell_type": "code",
      "metadata": {
        "id": "639mswpvd91Z"
      },
      "source": [
        "def ensemble_selector(loss_function, y_hats, y_true, init_size=1,\n",
        "                      replacement=True, max_iter=100):\n",
        "    \"\"\"Implementation of the algorithm of Caruana et al. (2004) 'Ensemble\n",
        "    Selection from Libraries of Models'. Given a loss function mapping\n",
        "    predicted and ground truth values to a scalar along with a dictionary of\n",
        "    models with predicted and ground truth values, constructs an optimal\n",
        "    ensemble minimizing ensemble loss, by default allowing models to appear\n",
        "    several times in the ensemble.\n",
        "\n",
        "    Parameters\n",
        "    ----------\n",
        "    loss_function: function\n",
        "        accepting two arguments - numpy arrays of predictions and true values - \n",
        "        and returning a scalar\n",
        "    y_hats: dict\n",
        "        with keys being model names and values being numpy arrays of predicted\n",
        "        values\n",
        "    y_true: np.array\n",
        "        numpy array of true values, same for each model\n",
        "    init_size: int\n",
        "        number of models in the initial ensemble, picked by the best loss.\n",
        "        Default is 1\n",
        "    replacement: bool\n",
        "        whether the models should be returned back to the pool of models once\n",
        "        added to the ensemble. Default is True\n",
        "    max_iter: int\n",
        "        number of iterations for selection with replacement to perform. Only\n",
        "        relevant if 'replacement' is True, otherwise iterations continue until\n",
        "        the dataset is exhausted i.e.\n",
        "        min(len(y_hats.keys())-init_size, max_iter). Default is 100\n",
        "\n",
        "    Returns\n",
        "    -------\n",
        "    ensemble_loss: pd.Series\n",
        "        with loss of the ensemble over iterations\n",
        "    model_weights: pd.DataFrame\n",
        "        with model names across columns and ensemble selection iterations\n",
        "        across rows. Each value is the weight of a model in the ensemble\n",
        "\"\"\"\n",
        "  # Step 1: compute losses\n",
        "    losses = dict()\n",
        "    for model, y_hat in y_hats.items():\n",
        "        losses[model] = loss_function(y_hat, y_true)\n",
        "\n",
        "    # Get the initial ensemble comprised of the best models\n",
        "    losses = pd.Series(losses).sort_values()\n",
        "    init_ensemble = losses.iloc[:init_size].index.tolist()\n",
        "\n",
        "    # Compute its loss\n",
        "    if init_size == 1:\n",
        "        # Take the best loss\n",
        "        init_loss = losses.loc[init_ensemble].values[0]\n",
        "        y_hat_avg = y_hats[init_ensemble[0]].copy()\n",
        "    else:\n",
        "        # Average the predictions over several models\n",
        "        y_hat_avg = np.array(\n",
        "            [y_hats[mod] for mod in init_ensemble]).mean(axis=0)\n",
        "        init_loss = loss_function(y_hat_avg, y_true)\n",
        "\n",
        "    # Define the set of available models\n",
        "    if replacement:\n",
        "        available_models = list(y_hats.keys())\n",
        "    else:\n",
        "        available_models = losses.index.difference(init_ensemble).tolist()\n",
        "        # Redefine maximum number of iterations\n",
        "        max_iter = min(len(available_models), max_iter)\n",
        "\n",
        "    # Sift through the available models keeping track of the ensemble loss\n",
        "    # Redefine variables for the clarity of exposition\n",
        "    current_loss = init_loss\n",
        "    current_size = init_size\n",
        "    loss_progress = [current_loss]\n",
        "    ensemble_members = [init_ensemble]\n",
        "    for i in range(max_iter):\n",
        "        # Compute weights for predictions\n",
        "        w_current = current_size / (current_size + 1)\n",
        "        w_new = 1 / (current_size + 1)\n",
        "\n",
        "        # Try all models one by one\n",
        "        tmp_losses = dict()\n",
        "        tmp_y_avg = dict()\n",
        "        for mod in available_models:\n",
        "            tmp_y_avg[mod] = w_current * y_hat_avg + w_new * y_hats[mod]\n",
        "            tmp_losses[mod] = loss_function(tmp_y_avg[mod], y_true)\n",
        "\n",
        "        # Locate the best trial\n",
        "        best_model = pd.Series(tmp_losses).sort_values().index[0]\n",
        "\n",
        "        # Update the loop variables and record progress\n",
        "        current_loss = tmp_losses[best_model]\n",
        "        loss_progress.append(current_loss)\n",
        "        y_hat_avg = tmp_y_avg[best_model]\n",
        "        current_size += 1\n",
        "        ensemble_members.append(ensemble_members[-1] + [best_model])\n",
        "\n",
        "        if not replacement:\n",
        "            available_models.remove(best_model)\n",
        "\n",
        "    # Organize the output\n",
        "    ensemble_loss = pd.Series(loss_progress, name=\"loss\")\n",
        "    model_weights = pd.DataFrame(index=ensemble_loss.index,\n",
        "                                 columns=y_hats.keys())\n",
        "    for ix, row in model_weights.iterrows():\n",
        "        weights = pd.Series(ensemble_members[ix]).value_counts()\n",
        "        weights = weights / weights.sum()\n",
        "        model_weights.loc[ix, weights.index] = weights\n",
        "\n",
        "    return ensemble_loss, model_weights.fillna(0).astype(float)"
      ],
      "execution_count": null,
      "outputs": []
    },
    {
      "cell_type": "code",
      "metadata": {
        "id": "ywmN4N-QfQWu"
      },
      "source": [
        "def cross_entropy(predictions, targets, epsilon=1e-8):\n",
        "    \"\"\"Compute cross entropy given predictions as class probabilities and one-\n",
        "    hot encoded ground truth labels.\n",
        "    Parameters\n",
        "    ----------\n",
        "    predictions: np.array\n",
        "        (num examples, num_classes) of predicted class probabilities\n",
        "    targets: np.array\n",
        "        (num examples, num_classes) of one-hot encoded true class labels\n",
        "    epsilon: float\n",
        "     a constant to clip predicted probabilities to avoid taking log of zero\n",
        "    Returns\n",
        "    -------\n",
        "    cross_entropy: float\n",
        "        cross entropy of the inputs\n",
        "    \"\"\"\n",
        "    predictions = np.clip(predictions, epsilon, 1-epsilon)\n",
        "    return (-np.log(predictions) * targets).sum(axis=1).mean()\n",
        "\n",
        "\n",
        "def accuracy(predictions, targets, one_hot_targets=True):\n",
        "    \"\"\"Compute accuracy given arrays of predictions and targets.\n",
        "\n",
        "    Parameters\n",
        "    predictions: np.array\n",
        "        (num examples, num_classes) of predicted class probabilities/scores\n",
        "    targets: np.array\n",
        "        (num examples, num_classes) of one hot encoded true class labels if\n",
        "        'one_hot_targets' is True, or true class indices if it is False\n",
        "    one_hot_targets: bool\n",
        "        whether the target are in one-hot or class index format. Default is\n",
        "        True\n",
        "\n",
        "    Returns\n",
        "    -------\n",
        "    accuracy: float\n",
        "        accuracy of predictions\n",
        "\n",
        "    \"\"\"\n",
        "    if one_hot_targets:\n",
        "        return (predictions.argmax(axis=1) == targets.argmax(axis=1)).mean()\n",
        "    else:\n",
        "        return (predictions.argmax(axis=1) == targets).mean()"
      ],
      "execution_count": null,
      "outputs": []
    },
    {
      "cell_type": "code",
      "metadata": {
        "id": "PU2poF3tfVEd"
      },
      "source": [
        "class MNISTMLP(nn.Module):\n",
        "    \"\"\"A simple MLP for MNIST.\n",
        "\n",
        "    Class Attributes\n",
        "    ----------------\n",
        "    n_classes: int\n",
        "        number of classes, corresponds to dimensionality of the output layer\n",
        "\n",
        "    \"\"\"\n",
        "    n_classes = 2\n",
        "\n",
        "    def __init__(self, d_in, n_layers, units, dropout, activation=nn.ReLU):\n",
        "        \"\"\"Instantiate.\n",
        "\n",
        "        Parameters\n",
        "        ----------\n",
        "        d_in: int\n",
        "            dimension of input vector\n",
        "        n_layers: int\n",
        "            number of hidden layers\n",
        "        units: iterable\n",
        "            of length equal number of layers with elements being integers\n",
        "            specifying number of units in each layer\n",
        "        dropout: float or None\n",
        "            dropout probability, if None, no dropout is applied\n",
        "        activation: torch.nn.modules.activation\n",
        "            hidden layer activation function: 'nn.ReLU', 'nn.GELU', etc.\n",
        "            Default is 'nn.ReLU'\n",
        "\n",
        "        \"\"\"\n",
        "        super().__init__()\n",
        "         # Check if units and layers match\n",
        "        assert len(units) == n_layers\n",
        "\n",
        "        # Assign parameters as attributes\n",
        "        self.d_in = d_in\n",
        "        self.n_layers = n_layers\n",
        "        self.units = units\n",
        "        self.activation = activation\n",
        "\n",
        "        # Dropout operation\n",
        "        if dropout is None:\n",
        "            self.dropout = None\n",
        "        else:\n",
        "            self.dropout = nn.Dropout(p=dropout)\n",
        "\n",
        "        # Construct intermediate layers\n",
        "        if dropout is None:\n",
        "            layers = [nn.Linear(d_in, units[0]), self.activation()]\n",
        "            if n_layers > 1:\n",
        "                for i, u in enumerate(units):\n",
        "                    if i > 0:\n",
        "                        layers.extend([nn.Linear(units[i-1], units[i]),\n",
        "                                       self.activation()])\n",
        "        else:\n",
        "            layers = [nn.Linear(d_in, units[0]), self.activation(),\n",
        "                      self.dropout]\n",
        "            if n_layers > 1:\n",
        "                for i, u in enumerate(units):\n",
        "                    if i > 0:\n",
        "                        layers.extend([nn.Linear(units[i-1], units[i]),\n",
        "                                       self.activation(), self.dropout])\n",
        "\n",
        "        # Final layer: outputs - raw scores\n",
        "        self.final_layer = [nn.Linear(units[-1], self.n_classes)]\n",
        "        layers.extend(self.final_layer)\n",
        "\n",
        "        self.layers = nn.Sequential(*layers)\n",
        "  \n",
        "    def forward(self, x):\n",
        "        \"\"\"Forward pass.\"\"\"\n",
        "        flattened_x = x.view(-1, self.d_in)\n",
        "        return self.layers(flattened_x)"
      ],
      "execution_count": null,
      "outputs": []
    },
    {
      "cell_type": "code",
      "metadata": {
        "id": "0s2iJ7hgfgdO"
      },
      "source": [
        "models_to_train = 5  # train this many models\n",
        "max_epochs = 3        # for this many epochs\n",
        "val_spilt = 0.25      # % of the torch MNIST train set for validation\n",
        "\n",
        "# Define model names \n",
        "model_names = [\"M\" + str(m) for m in range(models_to_train)]\n",
        "\n",
        "# Hyperparameters defining network architecture and training\n",
        "n_layers = 3 \n",
        "units = [100, 100, 100]\n",
        "batch_size = 32\n",
        "learning_rate = 1e-3\n",
        "dropout = None"
      ],
      "execution_count": null,
      "outputs": []
    },
    {
      "cell_type": "code",
      "metadata": {
        "id": "pGmKY6xxfpl1"
      },
      "source": [
        "# Since both validation and test use full batch, fetch the features and\n",
        "# targets as tensors\n",
        "for batch in val_dl:\n",
        "    x_val, y_val = batch[0], batch[1]\n",
        "for batch in test_dl:\n",
        "    x_test, y_test = batch[0], batch[1]"
      ],
      "execution_count": null,
      "outputs": []
    },
    {
      "cell_type": "code",
      "metadata": {
        "colab": {
          "base_uri": "https://localhost:8080/"
        },
        "id": "GrfIR5Hcf79t",
        "outputId": "0e7f1f7d-7377-455c-d23e-12c666ea60bd"
      },
      "source": [
        "\n",
        "# Loss function is negative log-likelihood/cross-entropy\n",
        "loss_fn = nn.CrossEntropyLoss()\n",
        "\n",
        "# Train a pool of ensemble candidates\n",
        "for model_name in model_names:\n",
        "\n",
        "    # Define the model\n",
        "    mlp = MNISTMLP(d_in=train_data[0][0].reshape(-1).shape[0],\n",
        "                   n_layers=n_layers, units=units, dropout=None)\n",
        "    optimizer = torch.optim.Adam(mlp.parameters(), lr=learning_rate)\n",
        "\n",
        "    train_loss = []\n",
        "    train_acc = []\n",
        "    val_loss = []\n",
        "    val_acc = []\n",
        "    for epoch in range(max_epochs):\n",
        "\n",
        "        # Training loop\n",
        "        mlp.train()\n",
        "        epoch_loss = []\n",
        "        epoch_acc = []\n",
        "        for x_batch, y_true_batch in train_dl:\n",
        "            # Forward pass\n",
        "            y_hat = mlp(x_batch)\n",
        "\n",
        "            # Compute loss\n",
        "            loss = loss_fn(y_hat, y_true_batch)\n",
        "\n",
        "            # Backpropagate and update the weights\n",
        "            loss.backward()\n",
        "            optimizer.step()\n",
        "\n",
        "            # Reset gradients\n",
        "            optimizer.zero_grad()\n",
        "\n",
        "            # Append loss and accuracy estimates\n",
        "            epoch_loss.append(loss.item())\n",
        "            epoch_acc.extend(\n",
        "                (y_hat.argmax(dim=1) == y_true_batch)\n",
        "                .detach().numpy().tolist()\n",
        "                )\n",
        "        # Compute metrics for this epoch\n",
        "        train_loss.append(np.array(epoch_loss).mean())\n",
        "        train_acc.append(np.array(epoch_acc).mean())\n",
        "\n",
        "        # Process validation set\n",
        "        mlp.eval()\n",
        "        y_hat = mlp(x_val)\n",
        "        loss = loss_fn(y_hat, y_val)\n",
        "        val_loss.append(loss.item())\n",
        "        val_acc.append(\n",
        "            (y_hat.argmax(dim=1) == y_val).float().mean().item()\n",
        "            )\n",
        "\n",
        "        print(\n",
        "            \"Model Name {}, Epoch {}:\\n\"\n",
        "            \"Train Loss: {:4.4f}, Train Acc: {:4.4f} \"\n",
        "            \"Val Loss: {:4.4f}, Val Acc: {:4.4f}\".format(\n",
        "                model_name, epoch,\n",
        "                train_loss[-1], train_acc[-1],\n",
        "                val_loss[-1], val_acc[-1])\n",
        "            )\n",
        "\n",
        "        # Save the checkpoint\n",
        "        torch.save({\n",
        "            \"epoch\": epoch,\n",
        "            \"model_state_dict\": mlp.state_dict(),\n",
        "            \"optimizer_state_dict\": optimizer.state_dict(),\n",
        "            \"history\": pd.DataFrame(\n",
        "                {\"train_loss\": train_loss, \"train_acc\": train_acc,\n",
        "                 \"val_loss\": val_loss, \"val_acc\": val_acc}).astype(float),\n",
        "            \"train_loss\": train_loss[-1],\n",
        "            \"train_acc\": train_acc[-1],\n",
        "            \"val_loss\": val_loss[-1],\n",
        "            \"val_acc\": val_acc[-1]\n",
        "            },\n",
        "            data_dir + model_name + \"_epoch_\" + str(epoch) + \".p\")"
      ],
      "execution_count": null,
      "outputs": [
        {
          "output_type": "stream",
          "name": "stdout",
          "text": [
            "Model Name M0, Epoch 0:\n",
            "Train Loss: 1.7182, Train Acc: 0.5852 Val Loss: 0.6135, Val Acc: 0.6429\n",
            "Model Name M0, Epoch 1:\n",
            "Train Loss: 1.2142, Train Acc: 0.6632 Val Loss: 0.9128, Val Acc: 0.5714\n",
            "Model Name M0, Epoch 2:\n",
            "Train Loss: 1.3331, Train Acc: 0.7084 Val Loss: 0.7578, Val Acc: 0.7143\n",
            "Model Name M1, Epoch 0:\n",
            "Train Loss: 1.6469, Train Acc: 0.6304 Val Loss: 0.9661, Val Acc: 0.5714\n",
            "Model Name M1, Epoch 1:\n",
            "Train Loss: 1.8077, Train Acc: 0.6653 Val Loss: 0.7266, Val Acc: 0.6429\n",
            "Model Name M1, Epoch 2:\n",
            "Train Loss: 0.8746, Train Acc: 0.7474 Val Loss: 0.6684, Val Acc: 0.7143\n",
            "Model Name M2, Epoch 0:\n",
            "Train Loss: 1.7552, Train Acc: 0.6304 Val Loss: 1.4159, Val Acc: 0.7857\n",
            "Model Name M2, Epoch 1:\n",
            "Train Loss: 1.1322, Train Acc: 0.6735 Val Loss: 0.2959, Val Acc: 0.8571\n",
            "Model Name M2, Epoch 2:\n",
            "Train Loss: 1.0536, Train Acc: 0.7125 Val Loss: 0.5421, Val Acc: 0.7857\n",
            "Model Name M3, Epoch 0:\n",
            "Train Loss: 1.7351, Train Acc: 0.5975 Val Loss: 0.4525, Val Acc: 0.8571\n",
            "Model Name M3, Epoch 1:\n",
            "Train Loss: 1.1284, Train Acc: 0.7228 Val Loss: 2.4390, Val Acc: 0.6429\n",
            "Model Name M3, Epoch 2:\n",
            "Train Loss: 0.9605, Train Acc: 0.7310 Val Loss: 0.2878, Val Acc: 0.8571\n",
            "Model Name M4, Epoch 0:\n",
            "Train Loss: 1.6753, Train Acc: 0.6632 Val Loss: 0.3992, Val Acc: 0.7857\n",
            "Model Name M4, Epoch 1:\n",
            "Train Loss: 0.7818, Train Acc: 0.7228 Val Loss: 0.3630, Val Acc: 0.7857\n",
            "Model Name M4, Epoch 2:\n",
            "Train Loss: 0.6148, Train Acc: 0.7639 Val Loss: 0.4923, Val Acc: 0.7857\n"
          ]
        }
      ]
    },
    {
      "cell_type": "code",
      "metadata": {
        "colab": {
          "base_uri": "https://localhost:8080/"
        },
        "id": "-t00cM4HiF9s",
        "outputId": "d98ef57a-933d-4147-9bbe-6e209c25577d"
      },
      "source": [
        "os.listdir(data_dir)[:2]"
      ],
      "execution_count": null,
      "outputs": [
        {
          "output_type": "execute_result",
          "data": {
            "text/plain": [
              "['Non Flooded', 'Flooded']"
            ]
          },
          "metadata": {},
          "execution_count": 67
        }
      ]
    },
    {
      "cell_type": "code",
      "metadata": {
        "id": "5NhyeoT6iQFN"
      },
      "source": [
        "# For each model pick the checkpoint with the lowest validation loss, then:\n",
        "# 1. compute losses and accuracies on the validation and test set\n",
        "# 2. get predictions on the validation set\n",
        "trained_models = {}\n",
        "metrics = {}\n",
        "y_hats_val = {}\n",
        "y_hats_test = {}\n",
        "for model_name in model_names:\n",
        "    # Load the last checkpoint\n",
        "    last_checkpoint = torch.load(\n",
        "        data_dir + model_name + \"_epoch_\" + str(max_epochs-1) + \".p\")\n",
        "\n",
        "    # Find the best checkpoint by validation loss\n",
        "    best_by_val_loss = \\\n",
        "        last_checkpoint[\"history\"].sort_values(\"val_loss\").index[0]\n",
        "    best_checkpoint = torch.load(\n",
        "        data_dir + model_name + \"_epoch_\" +\n",
        "        str(best_by_val_loss) + \".p\"\n",
        "        )\n",
        "\n",
        "    # Restore the best checkpoint\n",
        "    mlp = MNISTMLP(d_in=train_data[0][0].reshape(-1).shape[0],\n",
        "                   n_layers=n_layers, units=units, dropout=dropout)\n",
        "    mlp.load_state_dict(best_checkpoint[\"model_state_dict\"])\n",
        "    mlp.eval()\n",
        "\n",
        "    # Compute predictions on the validation and test sets, compute the\n",
        "    # metrics for the latter (validation stuff has already been saved)\n",
        "    y_hat_val = mlp(x_val)\n",
        "    y_hat_test = mlp(x_test)\n",
        "\n",
        "    test_loss = loss_fn(y_hat_test, y_test).item()\n",
        "    test_acc = (y_hat_test.argmax(dim=1) == y_test).float().mean().item()\n",
        "\n",
        "    # Store the outputs\n",
        "    trained_models[model_name] = mlp\n",
        "    metrics[model_name] = {\n",
        "        \"val_loss\": best_checkpoint[\"val_loss\"],\n",
        "        \"val_acc\": best_checkpoint[\"val_acc\"],\n",
        "        \"test_loss\": test_loss,\n",
        "        \"test_acc\": test_acc\n",
        "        }\n",
        "    # Convert predictions to class probabilities\n",
        "    y_hats_val[model_name] = y_hat_val.softmax(dim=1).detach().numpy()\n",
        "    y_hats_test[model_name] = y_hat_test.softmax(dim=1).detach().numpy()\n",
        "\n",
        "# Convert the metrics dict to a dataframe\n",
        "metrics = pd.DataFrame(metrics).T.astype(float)"
      ],
      "execution_count": null,
      "outputs": []
    },
    {
      "cell_type": "code",
      "metadata": {
        "colab": {
          "base_uri": "https://localhost:8080/",
          "height": 513
        },
        "id": "HMHG2acdiVg8",
        "outputId": "eb2246a9-d7ea-4cdb-e6df-0a9ea5fe5815"
      },
      "source": [
        "# Separate dataframes for losses and accuracies\n",
        "metrics_loss = metrics.filter(like=\"loss\").stack().reset_index()\n",
        "metrics_loss.columns = [\"model\", \"val/test\", \"loss\"]\n",
        "\n",
        "metrics_acc = metrics.filter(like=\"acc\").stack().reset_index()\n",
        "metrics_acc.columns = [\"model\", \"val/test\", \"acc\"]\n",
        "\n",
        "# Plot losses and accuracies\n",
        "fig, ax = plt.subplots(1, 2, figsize=(15, 7))\n",
        "sns.barplot(x=\"model\", y=\"loss\", hue=\"val/test\", data=metrics_loss,\n",
        "            alpha=0.75, saturation=0.90, palette=[\"#1f77b4\", \"#ff7f0e\"],\n",
        "            ax=ax[0])\n",
        "sns.barplot(x=\"model\", y=\"acc\", hue=\"val/test\", data=metrics_acc,\n",
        "            alpha=0.75, saturation=0.90, palette=[\"#1f77b4\", \"#ff7f0e\"],\n",
        "            ax=ax[1])\n",
        "\n",
        "ax[0].set_ylim(metrics_loss[\"loss\"].min() - 1e-2,\n",
        "               metrics_loss[\"loss\"].max() + 1e-2)\n",
        "ax[1].set_ylim(metrics_acc[\"acc\"].min()-3e-3,\n",
        "               metrics_acc[\"acc\"].max()+3e-3)\n",
        "\n",
        "ax[0].set_title(\"Loss\", fontsize=17)\n",
        "ax[1].set_title(\"Accuracy\", fontsize=17)\n",
        "\n",
        "for x in ax:\n",
        "    x.xaxis.set_tick_params(rotation=0, labelsize=15)\n",
        "    x.yaxis.set_tick_params(rotation=0, labelsize=15)\n",
        "    x.set_xlabel(\"Model\", visible=True, fontsize=15)\n",
        "    x.set_ylabel(\"\", visible=False)\n",
        "\n",
        "    handles, labels = x.get_legend_handles_labels()\n",
        "    x.legend(handles=handles, labels=labels, fontsize=15)\n",
        "\n",
        "fig.tight_layout(w_pad=5)"
      ],
      "execution_count": null,
      "outputs": [
        {
          "output_type": "display_data",
          "data": {
            "image/png": "[encoded data removed]",
            "text/plain": [
              "<Figure size 1080x504 with 2 Axes>"
            ]
          },
          "metadata": {
            "needs_background": "light"
          }
        }
      ]
    },
    {
      "cell_type": "code",
      "metadata": {
        "id": "k42cKqnjiX6j"
      },
      "source": [
        "# One-hot encoded validation labels\n",
        "y_true_one_hot_val = np.eye(2)[y_val.numpy()]\n",
        "\n",
        "ensemble_loss, model_weights = ensemble_selector(\n",
        "    loss_function=cross_entropy, y_hats=y_hats_val,\n",
        "    y_true=y_true_one_hot_val, init_size=1, replacement=True, max_iter=10\n",
        "    )"
      ],
      "execution_count": null,
      "outputs": []
    },
    {
      "cell_type": "code",
      "metadata": {
        "colab": {
          "base_uri": "https://localhost:8080/"
        },
        "id": "WJ51nvRmiZ47",
        "outputId": "25afbda7-5e48-49e0-b1a0-a7b03e7d5890"
      },
      "source": [
        "print(ensemble_loss)"
      ],
      "execution_count": null,
      "outputs": [
        {
          "output_type": "stream",
          "name": "stdout",
          "text": [
            "0     0.287774\n",
            "1     0.272583\n",
            "2     0.273658\n",
            "3     0.272583\n",
            "4     0.272753\n",
            "5     0.272583\n",
            "6     0.272558\n",
            "7     0.272583\n",
            "8     0.272500\n",
            "9     0.272583\n",
            "10    0.272482\n",
            "Name: loss, dtype: float64\n"
          ]
        }
      ]
    },
    {
      "cell_type": "code",
      "metadata": {
        "colab": {
          "base_uri": "https://localhost:8080/"
        },
        "id": "foULdeXjibf7",
        "outputId": "9232673b-a86b-4707-b47d-97de311b7ba4"
      },
      "source": [
        "print(model_weights)"
      ],
      "execution_count": null,
      "outputs": [
        {
          "output_type": "stream",
          "name": "stdout",
          "text": [
            "     M0   M1        M2        M3   M4\n",
            "0   0.0  0.0  0.000000  1.000000  0.0\n",
            "1   0.0  0.0  0.500000  0.500000  0.0\n",
            "2   0.0  0.0  0.333333  0.666667  0.0\n",
            "3   0.0  0.0  0.500000  0.500000  0.0\n",
            "4   0.0  0.0  0.400000  0.600000  0.0\n",
            "5   0.0  0.0  0.500000  0.500000  0.0\n",
            "6   0.0  0.0  0.428571  0.571429  0.0\n",
            "7   0.0  0.0  0.500000  0.500000  0.0\n",
            "8   0.0  0.0  0.444444  0.555556  0.0\n",
            "9   0.0  0.0  0.500000  0.500000  0.0\n",
            "10  0.0  0.0  0.454545  0.545455  0.0\n"
          ]
        }
      ]
    },
    {
      "cell_type": "code",
      "metadata": {
        "colab": {
          "base_uri": "https://localhost:8080/",
          "height": 513
        },
        "id": "8Wnnk4W3idlT",
        "outputId": "f75d8993-a607-4b81-b50d-0761868bdb98"
      },
      "source": [
        "# Locate non-zero weights and sort models by their average weight\n",
        "weights_to_plot = model_weights.loc[:, (model_weights != 0).any()]\n",
        "weights_to_plot = weights_to_plot[\n",
        "    weights_to_plot.mean().sort_values(ascending=False).index]\n",
        "\n",
        "# A palette corresponding to the number of models with non-zero weights\n",
        "palette = sns.cubehelix_palette(weights_to_plot.shape[1], reverse=True)\n",
        "\n",
        "# Plot\n",
        "fig, ax = plt.subplots(1, 1, figsize=(15, 7))\n",
        "weights_to_plot.plot(kind=\"bar\", stacked=True, color=palette, ax=ax,\n",
        "                     alpha=0.85)\n",
        "\n",
        "ax.margins(x=0.0)\n",
        "ax.set_xlabel(\"Optimization Step\", fontsize=15, visible=True)\n",
        "ax.set_ylabel(\"Ensemble Weight\", fontsize=15, visible=True)\n",
        "ax.yaxis.set_tick_params(rotation=0, labelsize=15)\n",
        "ax.xaxis.set_tick_params(rotation=0, labelsize=15)\n",
        "ax.legend(loc=\"best\", bbox_to_anchor=(1, 0.92),\n",
        "          frameon=True, edgecolor=\"k\", fancybox=False,\n",
        "          framealpha=0.7, shadow=False, ncol=1, fontsize=15)\n",
        "fig.tight_layout()"
      ],
      "execution_count": null,
      "outputs": [
        {
          "output_type": "display_data",
          "data": {
            "image/png": "[encoded data removed]",
            "text/plain": [
              "<Figure size 1080x504 with 1 Axes>"
            ]
          },
          "metadata": {
            "needs_background": "light"
          }
        }
      ]
    },
    {
      "cell_type": "code",
      "metadata": {
        "id": "c6x4r9GeihiM"
      },
      "source": [
        "# Use the weights to construct the ensemble on the test set\n",
        "y_true_one_hot_test = np.eye(2)[y_test.numpy()]\n",
        "\n",
        "# Compute the test loss for each ensemble iteration\n",
        "ensemble_loss_test = []\n",
        "for _, row in model_weights.iterrows():\n",
        "    # Compute test prediction for this iteration of ensemble weights\n",
        "    tmp_y_hat = np.array(\n",
        "        [y_hats_test[model_name] * weight\n",
        "         for model_name, weight in row.items()]\n",
        "        ).sum(axis=0)\n",
        "\n",
        "    ensemble_loss_test.append(\n",
        "        cross_entropy(tmp_y_hat, y_true_one_hot_test))\n",
        "ensemble_loss_test = pd.Series(ensemble_loss_test)"
      ],
      "execution_count": null,
      "outputs": []
    },
    {
      "cell_type": "code",
      "metadata": {
        "id": "LQPIholeij0c"
      },
      "source": [
        "# Compute loss of an ensemble which equally weights each model in the pool\n",
        "y_val_avg = np.array([_y for m, _y in y_hats_val.items()]).mean(axis=0)\n",
        "ens_loss_val_avg = cross_entropy(y_val_avg, y_true_one_hot_val)\n",
        "\n",
        "y_test_avg = np.array([_y for m, _y in y_hats_test.items()]).mean(axis=0)\n",
        "ens_loss_test_avg = cross_entropy(y_test_avg, y_true_one_hot_test)"
      ],
      "execution_count": null,
      "outputs": []
    },
    {
      "cell_type": "code",
      "metadata": {
        "colab": {
          "base_uri": "https://localhost:8080/",
          "height": 513
        },
        "id": "vLQ6MU7Zil5k",
        "outputId": "60e7d8bf-94e6-4bf4-ed6d-300947101804"
      },
      "source": [
        "\n",
        "fig, ax = plt.subplots(1, 2, figsize=(15, 7), sharey=False)\n",
        "ax[0].plot(ensemble_loss, color=\"#1f77b4\", lw=2.75,\n",
        "           label=\"ensemble loss\")\n",
        "ax[0].plot(pd.Series(ensemble_loss[0], ensemble_loss.index),\n",
        "           color=\"k\", lw=1.75, ls=\"--\", dashes=(5, 5),\n",
        "           label=\"baseline 1: best model\")\n",
        "ax[0].plot(pd.Series(ens_loss_val_avg, ensemble_loss.index),\n",
        "           color=\"r\", lw=1.75, ls=\"--\", dashes=(5, 5),\n",
        "           label=\"baseline 2: average of all models\")\n",
        "\n",
        "ax[1].plot(ensemble_loss_test, color=\"#1f77b4\", lw=2.75,\n",
        "           label=\"ensemble loss\")\n",
        "ax[1].plot(pd.Series(ensemble_loss_test[0], ensemble_loss_test.index),\n",
        "           color=\"k\", lw=1.75, ls=\"--\", dashes=(5, 5),\n",
        "           label=\"baseline 1: best model on validation set\")\n",
        "ax[1].plot(pd.Series(ens_loss_test_avg, ensemble_loss.index),\n",
        "           color=\"r\", lw=1.75, ls=\"--\", dashes=(5, 5),\n",
        "           label=\"baseline 2: average of all models\")\n",
        "\n",
        "ax[0].set_title(\"Validation Loss\", fontsize=17)\n",
        "ax[1].set_title(\"Test Loss\", fontsize=17)\n",
        "\n",
        "for x in ax:\n",
        "    x.margins(x=0.0)\n",
        "    x.set_xlabel(\"Optimization Step\", fontsize=15, visible=True)\n",
        "    x.set_ylabel(\"\", fontsize=15, visible=False)\n",
        "    x.yaxis.set_tick_params(labelsize=15)\n",
        "    x.xaxis.set_tick_params(labelsize=15)\n",
        "    x.legend(loc=\"upper right\", bbox_to_anchor=(1, 0.92),\n",
        "             frameon=True, edgecolor=\"k\", fancybox=False,\n",
        "             framealpha=0.7, shadow=False, ncol=1, fontsize=15)\n",
        "fig.tight_layout(w_pad=3.14)"
      ],
      "execution_count": null,
      "outputs": [
        {
          "output_type": "display_data",
          "data": {
            "image/png": "[encoded data removed]",
            "text/plain": [
              "<Figure size 1080x504 with 2 Axes>"
            ]
          },
          "metadata": {
            "needs_background": "light"
          }
        }
      ]
    },
    {
      "cell_type": "code",
      "metadata": {
        "id": "-M3_FC3Ziogs"
      },
      "source": [
        "\n",
        "# Accuracy-maximizing ensemble on the validation set\n",
        "ensemble_acc, model_weights_acc = ensemble_selector(\n",
        "    loss_function=lambda p, t: -accuracy(p, t),  # - for minimization\n",
        "    y_hats=y_hats_val, y_true=y_true_one_hot_val,\n",
        "    init_size=1, replacement=True, max_iter=10\n",
        "    )\n",
        "ensemble_acc = -ensemble_acc  # back to positive domain\n",
        "\n",
        "# Compute accuracy of the equally weighted ensemble\n",
        "ens_acc_val_avg = accuracy(y_val_avg, y_true_one_hot_val)\n",
        "\n",
        "# Apply the weights to the predicitons on the test set\n",
        "# Compute the test loss for each ensemble iteration\n",
        "ensemble_acc_test = []\n",
        "for _, row in model_weights_acc.iterrows():\n",
        "    # Compute test prediction for this iteration of ensemble weights\n",
        "    tmp_y_hat = np.array(\n",
        "        [y_hats_test[model_name] * weight\n",
        "         for model_name, weight in row.items()]\n",
        "        ).sum(axis=0)\n",
        "\n",
        "    ensemble_acc_test.append(\n",
        "        accuracy(tmp_y_hat, y_true_one_hot_test))\n",
        "ensemble_acc_test = pd.Series(ensemble_acc_test)\n",
        "\n",
        "# Equally-weighted ensemble\n",
        "ens_acc_test_avg = accuracy(y_test_avg, y_true_one_hot_test)"
      ],
      "execution_count": null,
      "outputs": []
    },
    {
      "cell_type": "code",
      "metadata": {
        "colab": {
          "base_uri": "https://localhost:8080/",
          "height": 513
        },
        "id": "tUx8qsWBirAT",
        "outputId": "32ba2825-feee-41e3-8f1b-12371da36b52"
      },
      "source": [
        "\n",
        "fig, ax = plt.subplots(1, 2, figsize=(15, 7), sharey=False)\n",
        "ax[0].plot(ensemble_acc, color=\"#1f77b4\", lw=2.75,label=\"ensemble accuracy\")\n",
        "ax[0].plot(pd.Series(ensemble_acc[0], ensemble_acc.index),\n",
        "      color=\"k\", lw=1.75, ls=\"--\", dashes=(5, 5),\n",
        "      label=\"baseline 1: best model\")\n",
        "ax[0].plot(pd.Series(ens_acc_val_avg, ensemble_loss.index),\n",
        "      color=\"r\", lw=1.75, ls=\"--\", dashes=(5, 5),\n",
        "      label=\"baseline 2: average of all models\")\n",
        "\n",
        "ax[1].plot(ensemble_acc_test, color=\"#1f77b4\", lw=2.75,\n",
        "      label=\"ensemble accuracy\")\n",
        "ax[1].plot(pd.Series(ensemble_acc_test[0], ensemble_loss_test.index),\n",
        "      color=\"k\", lw=1.75, ls=\"--\", dashes=(5, 5),\n",
        "      label=\"baseline 1: best model on validation set\")\n",
        "ax[1].plot(pd.Series(ens_acc_test_avg, ensemble_loss.index),\n",
        "      color=\"r\", lw=1.75, ls=\"--\", dashes=(5, 5),\n",
        "      label=\"baseline 2: average of all models\")\n",
        "\n",
        "ax[0].set_title(\"Validation Accuracy\", fontsize=17)\n",
        "ax[1].set_title(\"Test Accuracy\", fontsize=17)\n",
        "\n",
        "for x in ax:\n",
        "   x.margins(x=0.0)\n",
        "   x.set_xlabel(\"Optimization Step\", fontsize=15, visible=True)\n",
        "   x.set_ylabel(\"\", fontsize=15, visible=False)\n",
        "   x.yaxis.set_tick_params(labelsize=15)\n",
        "   x.xaxis.set_tick_params(labelsize=15)\n",
        "   x.legend(loc=\"upper right\", bbox_to_anchor=(1, 0.72),\n",
        "            frameon=True, edgecolor=\"k\", fancybox=False,\n",
        "            framealpha=0.7, shadow=False, ncol=1, fontsize=15)\n",
        "   fig.tight_layout()"
      ],
      "execution_count": null,
      "outputs": [
        {
          "output_type": "display_data",
          "data": {
            "image/png": "[encoded data removed]",
            "text/plain": [
              "<Figure size 1080x504 with 2 Axes>"
            ]
          },
          "metadata": {
            "needs_background": "light"
          }
        }
      ]
    }
  ]
}